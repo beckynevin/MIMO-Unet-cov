{
 "cells": [
  {
   "cell_type": "markdown",
   "id": "93faa01d-ce47-4723-989c-f12ee79642ac",
   "metadata": {},
   "source": [
    "## Compare the trained models\n",
    "Load the checkpoints, get the test datamodel up and running, access the two channel output."
   ]
  },
  {
   "cell_type": "code",
   "execution_count": 1,
   "id": "371111f0-fde9-4d84-97e1-f3f5e394074a",
   "metadata": {},
   "outputs": [],
   "source": [
    "import torch\n",
    "from mimo.models.mimo_unet import MimoUnetModel\n",
    "from mimo.tasks.sen12tp.sen12tp_datamodule import get_datamodule"
   ]
  },
  {
   "cell_type": "code",
   "execution_count": null,
   "id": "a2c8eba3-7a20-4e6d-93b6-79a0fba7aca7",
   "metadata": {},
   "outputs": [],
   "source": [
    "# defining args within the notebook\n",
    "args = {\n",
    "    'seed': 1,\n",
    "    'checkpoint_path': 'MIMO_NDVI_Prediction_Gauss/1yt2l40t/checkpoints/last.ckpt',\n",
    "    'dataset_dir': '/deepskieslab/rnevin/zenodo_data',\n",
    "    'batch_size': 32,\n",
    "    'num_loss_function_params': 2,\n",
    "    'num_subnetworks': 2,\n",
    "    'filter_base_count': 30,\n",
    "    'center_dropout_rate': 0.1,\n",
    "    'final_dropout_rate': 0.1,\n",
    "    'encoder_dropout_rate': 0.0,\n",
    "    'core_dropout_rate': 0.0,\n",
    "    'decoder_dropout_rate': 0.0,\n",
    "    'loss_buffer_size': 10,\n",
    "    'loss_buffer_temperature': 0.3,\n",
    "    'input_repetition_probability': 0.0,\n",
    "    'batch_repetitions': 1,\n",
    "    'patch_size': 256,\n",
    "    'stride': 249,\n",
    "    'loss': 'gaussian_nll',  # Adjust based on your actual loss function\n",
    "    'weight_decay': 0.0001,\n",
    "    'learning_rate': 0.0001,\n",
    "    'num_workers': 30,\n",
    "    'training_set_percentage': 1.0,\n",
    "}\n",
    "\n",
    "args[\"input\"] = [\"VV_sigma0\", \"VH_sigma0\"]\n",
    "args[\"target\"] = [\"NDVI\"]  # Example target\n",
    "\n",
    "'''\n",
    "python scripts/train/train_ndvi.py   --max_epochs 40   --batch_size 32   -t NDVI   -i VV_sigma0   -i VH_sigma0   --project \"MIMO_NDVI_Prediction_Gauss\"\n",
    "'''\n",
    "\n",
    "from argparse import Namespace\n",
    "\n",
    "args = Namespace(**args)  # Convert dictionary to Namespace\n",
    "dm = get_datamodule(args)\n",
    "\n",
    "\n",
    "# Initialize the datamodule (this can be modified based on your setup)\n",
    "dm = get_datamodule(args)\n",
    "\n",
    "# Instantiate the model (ensure to use the same parameters as during training)\n",
    "model = MimoUnetModel(\n",
    "    in_channels=len(dm.model_inputs),\n",
    "    out_channels=len(dm.model_targets) * args['num_loss_function_params'],\n",
    "    num_subnetworks=args['num_subnetworks'],\n",
    "    filter_base_count=args['filter_base_count'],\n",
    "    center_dropout_rate=args['center_dropout_rate'],\n",
    "    final_dropout_rate=args['final_dropout_rate'],\n",
    "    encoder_dropout_rate=args['encoder_dropout_rate'],\n",
    "    core_dropout_rate=args['core_dropout_rate'],\n",
    "    decoder_dropout_rate=args['decoder_dropout_rate'],\n",
    "    loss_buffer_size=args['loss_buffer_size'],\n",
    "    loss_buffer_temperature=args['loss_buffer_temperature'],\n",
    "    input_repetition_probability=args['input_repetition_probability'],\n",
    "    batch_repetitions=args['batch_repetitions'],\n",
    "    loss=args['loss'],\n",
    "    weight_decay=args['weight_decay'],\n",
    "    learning_rate=args['learning_rate'],\n",
    "    seed=args['seed'],\n",
    ")\n",
    "\n",
    "# Load the checkpoint\n",
    "checkpoint = torch.load(args['checkpoint_path'])\n",
    "model.load_state_dict(checkpoint['model_state_dict'])\n",
    "\n",
    "# Set the model to evaluation mode\n",
    "model.eval()\n"
   ]
  },
  {
   "cell_type": "code",
   "execution_count": null,
   "id": "8ab6401a-fdc0-4132-96af-3d6420cec478",
   "metadata": {},
   "outputs": [],
   "source": [
    "print(model)"
   ]
  },
  {
   "cell_type": "code",
   "execution_count": null,
   "id": "20b7bbe2-5f9f-49ad-955b-7e634f2c7a8f",
   "metadata": {},
   "outputs": [],
   "source": [
    "\n",
    "# Now we can use the model to make predictions\n",
    "test_data = dm.test_dataloader()  # Ensure the dataloader is set up for your test dataset\n",
    "\n",
    "# Make predictions\n",
    "predictions = []\n",
    "with torch.no_grad():\n",
    "    for inputs in test_data:\n",
    "        outputs = model(inputs)\n",
    "        predictions.append(outputs)\n",
    "\n",
    "# Optionally save the predictions (or process them further)\n",
    "for i, pred in enumerate(predictions):\n",
    "    save_image(pred, f'prediction_{i}.png')  # Replace with actual saving function if needed\n",
    "\n"
   ]
  },
  {
   "cell_type": "code",
   "execution_count": null,
   "id": "4fe4e9cf-50bf-4c2f-b15a-0c42b66dd23f",
   "metadata": {},
   "outputs": [],
   "source": []
  },
  {
   "cell_type": "code",
   "execution_count": null,
   "id": "1faa0f4a-ac45-4fff-aaa6-4e666bc5a91b",
   "metadata": {},
   "outputs": [],
   "source": [
    "from mimo.models.mimo_unet import MimoUnetModel"
   ]
  },
  {
   "cell_type": "code",
   "execution_count": null,
   "id": "c6713e71-3d72-4e88-9fc6-a96dda30f727",
   "metadata": {},
   "outputs": [],
   "source": [
    "import torch\n",
    "\n",
    "# Assuming your model is defined as `model` and the checkpoint is saved as 'checkpoint.pth'\n",
    "checkpoint_path = 'MIMO_NDVI_Prediction_Gauss/1yt2l40t/checkpoints/last.ckpt'\n",
    "\n",
    "# Load the checkpoint\n",
    "checkpoint = torch.load(checkpoint_path)\n",
    "\n",
    "# Assuming the checkpoint contains 'model_state_dict' for the model weights\n",
    "model.load_state_dict(checkpoint['model_state_dict'])\n",
    "\n",
    "# Set the model to evaluation mode\n",
    "model.eval()"
   ]
  }
 ],
 "metadata": {
  "kernelspec": {
   "display_name": "Python [conda env:.conda-mimo]",
   "language": "python",
   "name": "conda-env-.conda-mimo-py"
  },
  "language_info": {
   "codemirror_mode": {
    "name": "ipython",
    "version": 3
   },
   "file_extension": ".py",
   "mimetype": "text/x-python",
   "name": "python",
   "nbconvert_exporter": "python",
   "pygments_lexer": "ipython3",
   "version": "3.10.16"
  }
 },
 "nbformat": 4,
 "nbformat_minor": 5
}
