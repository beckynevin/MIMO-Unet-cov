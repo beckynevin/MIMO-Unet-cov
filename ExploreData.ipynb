{
 "cells": [
  {
   "cell_type": "markdown",
   "id": "93faa01d-ce47-4723-989c-f12ee79642ac",
   "metadata": {},
   "source": [
    "## Gotta troubleshoot this model and why its not working\n",
    "To do so, I'm going to visualize what the training and validation sets look like."
   ]
  },
  {
   "cell_type": "code",
   "execution_count": 1,
   "id": "371111f0-fde9-4d84-97e1-f3f5e394074a",
   "metadata": {},
   "outputs": [],
   "source": [
    "import torch\n",
    "from mimo.models.mimo_unet import MimoUnetModel\n",
    "from mimo.tasks.sen12tp.sen12tp_datamodule import get_datamodule\n",
    "from argparse import Namespace\n",
    "import matplotlib.pyplot as plt\n",
    "import numpy as np"
   ]
  },
  {
   "cell_type": "markdown",
   "id": "ec6cd819-c9e0-4bd9-a2c2-f48fb7eb897d",
   "metadata": {},
   "source": [
    "### First load the Laplace one"
   ]
  },
  {
   "cell_type": "code",
   "execution_count": 2,
   "id": "5966b105-f728-4f36-87f2-11723da8814d",
   "metadata": {},
   "outputs": [
    {
     "name": "stdout",
     "output_type": "stream",
     "text": [
      "📦 Total patches loaded: 134080\n",
      "🗺️ Total unique scenes: 2095\n",
      "📚 Training scenes: 1865\n",
      "🧪 Validation scenes: 230\n",
      "✅ Final train patches: 119360\n",
      "✅ Final val patches: 14720\n"
     ]
    }
   ],
   "source": [
    "args = {\n",
    "    'seed': 1,\n",
    "    'checkpoint_path': 'MIMO NDVI Prediction/hhid6a04/checkpoints/last.ckpt',\n",
    "    'dataset_dir': '/deepskieslab/rnevin/zenodo_data',\n",
    "    'batch_size': 32,\n",
    "    'num_loss_function_params': 2,\n",
    "    'num_subnetworks': 2,\n",
    "    'filter_base_count': 30,\n",
    "    'center_dropout_rate': 0.1,\n",
    "    'final_dropout_rate': 0.1,\n",
    "    'encoder_dropout_rate': 0.0,\n",
    "    'core_dropout_rate': 0.0,\n",
    "    'decoder_dropout_rate': 0.0,\n",
    "    'loss_buffer_size': 10,\n",
    "    'loss_buffer_temperature': 0.3,\n",
    "    'input_repetition_probability': 0.0,\n",
    "    'batch_repetitions': 1,\n",
    "    'patch_size': 256,\n",
    "    'stride': 249,\n",
    "    'loss': 'laplace_nll',  # Adjust based on your actual loss function\n",
    "    'weight_decay': 0.0001,\n",
    "    'learning_rate': 0.0001,\n",
    "    'num_workers': 30,\n",
    "    'training_set_percentage': 1.0,\n",
    "}\n",
    "\n",
    "args[\"input\"] = [\"VV_sigma0\", \"VH_sigma0\"]\n",
    "args[\"target\"] = [\"NDVI\"]  # Example target\n",
    "\n",
    "'''\n",
    "python scripts/train/train_ndvi.py   --max_epochs 40   --batch_size 32   -t NDVI   -i VV_sigma0   -i VH_sigma0   --project \"MIMO_NDVI_Prediction_Gauss\"\n",
    "'''\n",
    "\n",
    "args = Namespace(**args)  # Convert dictionary to Namespace\n",
    "dm_laplace = get_datamodule(args)"
   ]
  },
  {
   "cell_type": "markdown",
   "id": "b9396a56-f1bc-4a98-9fa8-cf855ed57c0b",
   "metadata": {},
   "source": [
    "Look at the train datamodel."
   ]
  },
  {
   "cell_type": "code",
   "execution_count": 3,
   "id": "9db721c7-9075-4fc2-93f7-51f72b5d5ac2",
   "metadata": {},
   "outputs": [
    {
     "name": "stdout",
     "output_type": "stream",
     "text": [
      "['CHECKPOINT_HYPER_PARAMS_KEY', 'CHECKPOINT_HYPER_PARAMS_NAME', 'CHECKPOINT_HYPER_PARAMS_TYPE', '__annotations__', '__class__', '__delattr__', '__dict__', '__dir__', '__doc__', '__eq__', '__format__', '__ge__', '__getattribute__', '__gt__', '__hash__', '__init__', '__init_subclass__', '__jit_unused_properties__', '__le__', '__lt__', '__module__', '__ne__', '__new__', '__reduce__', '__reduce_ex__', '__repr__', '__setattr__', '__sizeof__', '__str__', '__subclasshook__', '__weakref__', '_log_hyperparams', '_set_hparams', '_to_hparams_dict', 'allow_zero_length_dataloader_with_multiple_devices', 'batch_size', 'clipping_method', 'dataset_dir', 'drop_last_train', 'end_transform', 'from_datasets', 'hparams', 'hparams_initial', 'load_from_checkpoint', 'load_state_dict', 'model_inputs', 'model_targets', 'name', 'num_workers', 'on_after_batch_transfer', 'on_before_batch_transfer', 'on_exception', 'patch_size', 'pin_memory', 'predict_dataloader', 'prepare_data', 'prepare_data_per_node', 'save_hyperparameters', 'sen12tp_test', 'sen12tp_train', 'sen12tp_val', 'setup', 'shuffle_train', 'state_dict', 'stride', 'teardown', 'test_dataloader', 'train_dataloader', 'trainer', 'transfer_batch_to_device', 'transform', 'val_dataloader']\n"
     ]
    }
   ],
   "source": [
    "print(dir(dm_laplace))"
   ]
  },
  {
   "cell_type": "code",
   "execution_count": 4,
   "id": "7c19f35e-bd52-464d-9b4c-6df003134e96",
   "metadata": {},
   "outputs": [
    {
     "name": "stdout",
     "output_type": "stream",
     "text": [
      "['_DataLoader__initialized', '_DataLoader__multiprocessing_context', '_IterableDataset_len_called', '__annotations__', '__class__', '__class_getitem__', '__delattr__', '__dict__', '__dir__', '__doc__', '__eq__', '__format__', '__ge__', '__getattribute__', '__gt__', '__hash__', '__init__', '__init_subclass__', '__iter__', '__le__', '__len__', '__lt__', '__module__', '__ne__', '__new__', '__orig_bases__', '__parameters__', '__reduce__', '__reduce_ex__', '__repr__', '__setattr__', '__sizeof__', '__slots__', '__str__', '__subclasshook__', '__weakref__', '_auto_collation', '_dataset_kind', '_get_iterator', '_index_sampler', '_is_protocol', '_iterator', 'batch_sampler', 'batch_size', 'check_worker_number_rationality', 'collate_fn', 'dataset', 'drop_last', 'generator', 'multiprocessing_context', 'num_workers', 'persistent_workers', 'pin_memory', 'pin_memory_device', 'prefetch_factor', 'sampler', 'timeout', 'worker_init_fn']\n"
     ]
    }
   ],
   "source": [
    "print(dir(dm_laplace.train_dataloader()))"
   ]
  },
  {
   "cell_type": "code",
   "execution_count": 5,
   "id": "20b7bbe2-5f9f-49ad-955b-7e634f2c7a8f",
   "metadata": {},
   "outputs": [],
   "source": [
    "# Now we can use the model to make predictions\n",
    "train_data_laplace = dm_laplace.train_dataloader()\n",
    "val_data_laplace = dm_laplace.val_dataloader()"
   ]
  },
  {
   "cell_type": "code",
   "execution_count": 6,
   "id": "50d959e1-45f2-4e01-afb9-f8eef8f8a013",
   "metadata": {},
   "outputs": [
    {
     "name": "stdout",
     "output_type": "stream",
     "text": [
      "['__add__', '__annotations__', '__class__', '__class_getitem__', '__delattr__', '__dict__', '__dir__', '__doc__', '__eq__', '__format__', '__ge__', '__getattribute__', '__getitem__', '__gt__', '__hash__', '__init__', '__init_subclass__', '__le__', '__len__', '__lt__', '__module__', '__ne__', '__new__', '__orig_bases__', '__parameters__', '__reduce__', '__reduce_ex__', '__repr__', '__setattr__', '__sizeof__', '__slots__', '__str__', '__subclasshook__', '__weakref__', '_is_protocol', 'clip_transform', 'data_bands', 'end_transform', 'get_image_dataarray', 'load_sample', 'modalities', 'model_inputs', 'model_targets', 'patch_size', 'patches', 'path', 'stride', 'transform']\n"
     ]
    }
   ],
   "source": [
    "print(dir(train_data_laplace.dataset.ds))"
   ]
  },
  {
   "cell_type": "code",
   "execution_count": 7,
   "id": "c28c7f18-b30d-4814-a64e-0508a25d46d4",
   "metadata": {},
   "outputs": [
    {
     "name": "stdout",
     "output_type": "stream",
     "text": [
      "Training patches: [({'s1': PosixPath('/deepskieslab/rnevin/zenodo_data/train/0_1807/1807_s1.tif'), 's2': PosixPath('/deepskieslab/rnevin/zenodo_data/train/0_1807/1807_s2.tif')}, 0, 0), ({'s1': PosixPath('/deepskieslab/rnevin/zenodo_data/train/0_1807/1807_s1.tif'), 's2': PosixPath('/deepskieslab/rnevin/zenodo_data/train/0_1807/1807_s2.tif')}, 0, 1), ({'s1': PosixPath('/deepskieslab/rnevin/zenodo_data/train/0_1807/1807_s1.tif'), 's2': PosixPath('/deepskieslab/rnevin/zenodo_data/train/0_1807/1807_s2.tif')}, 0, 2), ({'s1': PosixPath('/deepskieslab/rnevin/zenodo_data/train/0_1807/1807_s1.tif'), 's2': PosixPath('/deepskieslab/rnevin/zenodo_data/train/0_1807/1807_s2.tif')}, 0, 3), ({'s1': PosixPath('/deepskieslab/rnevin/zenodo_data/train/0_1807/1807_s1.tif'), 's2': PosixPath('/deepskieslab/rnevin/zenodo_data/train/0_1807/1807_s2.tif')}, 0, 4)]\n",
      "Validation patches: [({'s1': PosixPath('/deepskieslab/rnevin/zenodo_data/train/1000_662/662_s1.tif'), 's2': PosixPath('/deepskieslab/rnevin/zenodo_data/train/1000_662/662_s2.tif')}, 0, 0), ({'s1': PosixPath('/deepskieslab/rnevin/zenodo_data/train/1000_662/662_s1.tif'), 's2': PosixPath('/deepskieslab/rnevin/zenodo_data/train/1000_662/662_s2.tif')}, 0, 1), ({'s1': PosixPath('/deepskieslab/rnevin/zenodo_data/train/1000_662/662_s1.tif'), 's2': PosixPath('/deepskieslab/rnevin/zenodo_data/train/1000_662/662_s2.tif')}, 0, 2), ({'s1': PosixPath('/deepskieslab/rnevin/zenodo_data/train/1000_662/662_s1.tif'), 's2': PosixPath('/deepskieslab/rnevin/zenodo_data/train/1000_662/662_s2.tif')}, 0, 3), ({'s1': PosixPath('/deepskieslab/rnevin/zenodo_data/train/1000_662/662_s1.tif'), 's2': PosixPath('/deepskieslab/rnevin/zenodo_data/train/1000_662/662_s2.tif')}, 0, 4)]\n"
     ]
    }
   ],
   "source": [
    "print(\"Training patches:\", train_data_laplace.dataset.ds.patches[:5])\n",
    "print(\"Validation patches:\", val_data_laplace.dataset.ds.patches[:5])"
   ]
  },
  {
   "cell_type": "code",
   "execution_count": 8,
   "id": "689c1242-0684-42e5-8780-dc962b76b0d9",
   "metadata": {},
   "outputs": [
    {
     "name": "stdout",
     "output_type": "stream",
     "text": [
      "Number of overlapping patches: 0\n",
      "Number of training patches: 1865\n",
      "Number of val patches: 230\n"
     ]
    }
   ],
   "source": [
    "def extract_patch_identifiers(patches):\n",
    "    \"\"\"Extracts unique identifiers for patches.\"\"\"\n",
    "    return set(\n",
    "        (patch[0]['s1'].parent.name, patch[0]['s1'].stem)  # Extract scene and patch ID\n",
    "        for patch in patches\n",
    "    )\n",
    "\n",
    "# Extract unique identifiers for each set\n",
    "train_patches = extract_patch_identifiers(train_data_laplace.dataset.ds.patches)\n",
    "val_patches = extract_patch_identifiers(val_data_laplace.dataset.ds.patches)\n",
    "\n",
    "# Identify overlap\n",
    "overlapping_patches = train_patches.intersection(val_patches)\n",
    "\n",
    "# Print results\n",
    "print(f\"Number of overlapping patches: {len(overlapping_patches)}\")\n",
    "print(f\"Number of training patches: {len(train_patches)}\")\n",
    "print(f\"Number of val patches: {len(val_patches)}\")\n",
    "if overlapping_patches:\n",
    "    print(\"Overlapping patches (sample):\", list(overlapping_patches)[:5])"
   ]
  },
  {
   "cell_type": "code",
   "execution_count": null,
   "id": "61ab3e82-8d74-4544-8677-58ae37bc7c33",
   "metadata": {},
   "outputs": [],
   "source": []
  }
 ],
 "metadata": {
  "kernelspec": {
   "display_name": "Python [conda env:.conda-mimo]",
   "language": "python",
   "name": "conda-env-.conda-mimo-py"
  },
  "language_info": {
   "codemirror_mode": {
    "name": "ipython",
    "version": 3
   },
   "file_extension": ".py",
   "mimetype": "text/x-python",
   "name": "python",
   "nbconvert_exporter": "python",
   "pygments_lexer": "ipython3",
   "version": "3.10.16"
  }
 },
 "nbformat": 4,
 "nbformat_minor": 5
}
