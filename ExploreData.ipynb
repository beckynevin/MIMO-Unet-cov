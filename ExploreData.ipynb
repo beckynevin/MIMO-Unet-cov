{
 "cells": [
  {
   "cell_type": "markdown",
   "id": "93faa01d-ce47-4723-989c-f12ee79642ac",
   "metadata": {},
   "source": [
    "## Gotta troubleshoot this model and why its not working\n",
    "To do so, I'm going to visualize what the training and validation sets look like."
   ]
  },
  {
   "cell_type": "code",
   "execution_count": null,
   "id": "371111f0-fde9-4d84-97e1-f3f5e394074a",
   "metadata": {},
   "outputs": [],
   "source": [
    "import torch\n",
    "from mimo.models.mimo_unet import MimoUnetModel\n",
    "from mimo.tasks.sen12tp.sen12tp_datamodule import get_datamodule\n",
    "from argparse import Namespace\n",
    "import matplotlib.pyplot as plt\n",
    "import numpy as np"
   ]
  },
  {
   "cell_type": "markdown",
   "id": "ec6cd819-c9e0-4bd9-a2c2-f48fb7eb897d",
   "metadata": {},
   "source": [
    "### First load the Laplace one"
   ]
  },
  {
   "cell_type": "code",
   "execution_count": null,
   "id": "5966b105-f728-4f36-87f2-11723da8814d",
   "metadata": {},
   "outputs": [],
   "source": [
    "args = {\n",
    "    'seed': 1,\n",
    "    'checkpoint_path': 'MIMO NDVI Prediction/hhid6a04/checkpoints/last.ckpt',\n",
    "    'dataset_dir': '/deepskieslab/rnevin/zenodo_data',\n",
    "    'batch_size': 32,\n",
    "    'num_loss_function_params': 2,\n",
    "    'num_subnetworks': 2,\n",
    "    'filter_base_count': 30,\n",
    "    'center_dropout_rate': 0.1,\n",
    "    'final_dropout_rate': 0.1,\n",
    "    'encoder_dropout_rate': 0.0,\n",
    "    'core_dropout_rate': 0.0,\n",
    "    'decoder_dropout_rate': 0.0,\n",
    "    'loss_buffer_size': 10,\n",
    "    'loss_buffer_temperature': 0.3,\n",
    "    'input_repetition_probability': 0.0,\n",
    "    'batch_repetitions': 1,\n",
    "    'patch_size': 256,\n",
    "    'stride': 249,\n",
    "    'loss': 'laplace_nll',  # Adjust based on your actual loss function\n",
    "    'weight_decay': 0.0001,\n",
    "    'learning_rate': 0.0001,\n",
    "    'num_workers': 30,\n",
    "    'training_set_percentage': 1.0,\n",
    "}\n",
    "\n",
    "args[\"input\"] = [\"VV_sigma0\", \"VH_sigma0\"]\n",
    "args[\"target\"] = [\"NDVI\"]  # Example target\n",
    "\n",
    "'''\n",
    "python scripts/train/train_ndvi.py   --max_epochs 40   --batch_size 32   -t NDVI   -i VV_sigma0   -i VH_sigma0   --project \"MIMO_NDVI_Prediction_Gauss\"\n",
    "'''\n",
    "\n",
    "args = Namespace(**args)  # Convert dictionary to Namespace\n",
    "dm_laplace = get_datamodule(args)"
   ]
  },
  {
   "cell_type": "markdown",
   "id": "b9396a56-f1bc-4a98-9fa8-cf855ed57c0b",
   "metadata": {},
   "source": [
    "Look at the train datamodel."
   ]
  },
  {
   "cell_type": "code",
   "execution_count": null,
   "id": "9db721c7-9075-4fc2-93f7-51f72b5d5ac2",
   "metadata": {},
   "outputs": [],
   "source": [
    "print(dir(dm_laplace))"
   ]
  },
  {
   "cell_type": "code",
   "execution_count": null,
   "id": "7c19f35e-bd52-464d-9b4c-6df003134e96",
   "metadata": {},
   "outputs": [],
   "source": [
    "print(dir(dm_laplace.train_dataloader()))"
   ]
  },
  {
   "cell_type": "code",
   "execution_count": null,
   "id": "20b7bbe2-5f9f-49ad-955b-7e634f2c7a8f",
   "metadata": {},
   "outputs": [],
   "source": [
    "# Now we can use the model to make predictions\n",
    "train_data_laplace = dm_laplace.train_dataloader()\n",
    "val_data_laplace = dm_laplace.val_dataloader()"
   ]
  },
  {
   "cell_type": "code",
   "execution_count": null,
   "id": "50d959e1-45f2-4e01-afb9-f8eef8f8a013",
   "metadata": {},
   "outputs": [],
   "source": [
    "print(dir(train_data_laplace.dataset.ds))"
   ]
  },
  {
   "cell_type": "code",
   "execution_count": null,
   "id": "c28c7f18-b30d-4814-a64e-0508a25d46d4",
   "metadata": {},
   "outputs": [],
   "source": [
    "print(\"Training patches:\", train_data_laplace.dataset.ds.patches[:5])\n",
    "print(\"Validation patches:\", val_data_laplace.dataset.ds.patches[:5])"
   ]
  },
  {
   "cell_type": "code",
   "execution_count": null,
   "id": "689c1242-0684-42e5-8780-dc962b76b0d9",
   "metadata": {},
   "outputs": [],
   "source": [
    "def extract_patch_identifiers(patches):\n",
    "    \"\"\"Extracts unique identifiers for patches.\"\"\"\n",
    "    return set(\n",
    "        (patch[0]['s1'].parent.name, patch[0]['s1'].stem)  # Extract scene and patch ID\n",
    "        for patch in patches\n",
    "    )\n",
    "\n",
    "# Extract unique identifiers for each set\n",
    "train_patches = extract_patch_identifiers(train_data_laplace.dataset.ds.patches)\n",
    "val_patches = extract_patch_identifiers(val_data_laplace.dataset.ds.patches)\n",
    "\n",
    "# Identify overlap\n",
    "overlapping_patches = train_patches.intersection(val_patches)\n",
    "\n",
    "# Print results\n",
    "print(f\"Number of overlapping patches: {len(overlapping_patches)}\")\n",
    "print(f\"Number of training patches: {len(train_patches)}\")\n",
    "print(f\"Number of val patches: {len(val_patches)}\")\n",
    "if overlapping_patches:\n",
    "    print(\"Overlapping patches (sample):\", list(overlapping_patches)[:5])"
   ]
  },
  {
   "cell_type": "code",
   "execution_count": null,
   "id": "61ab3e82-8d74-4544-8677-58ae37bc7c33",
   "metadata": {},
   "outputs": [],
   "source": []
  }
 ],
 "metadata": {
  "kernelspec": {
   "display_name": "Python [conda env:.conda-mimo]",
   "language": "python",
   "name": "conda-env-.conda-mimo-py"
  },
  "language_info": {
   "codemirror_mode": {
    "name": "ipython",
    "version": 3
   },
   "file_extension": ".py",
   "mimetype": "text/x-python",
   "name": "python",
   "nbconvert_exporter": "python",
   "pygments_lexer": "ipython3",
   "version": "3.10.16"
  }
 },
 "nbformat": 4,
 "nbformat_minor": 5
}
